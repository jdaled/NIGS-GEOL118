{
 "cells": [
  {
   "cell_type": "markdown",
   "id": "65fc09ac-1cfa-48fe-8869-fcaa7abe7cbd",
   "metadata": {
    "editable": false,
    "tags": []
   },
   "source": [
    "# Seismic Moment and Moment Magnitude\n",
    "\n",
    "## Overview\n",
    "To get the seismic moment, $M_0$,  of an earthquake, we use:\n",
    "\n",
    "$$ M_0 = \\mu A D $$\n",
    "\n",
    "where $\\mu$ is the shear modulus of the crust, $A$, is the area that slipped, and $D$, is the magntiude of slip. \n",
    "\n",
    "The moment magnitude, $M_w$, in newton-meters, can then be calculated as: $$M_w = \\frac{2}{3}\\left( \\log_{10}{M_0}\\right) - 6.05 $$\n",
    "\n",
    "## Test\n",
    "\n",
    "For an earthquake with a 25-km long rupture down to 10 km depth with 1 meter of slip, assuming $\\mu=32$ GPa (giga-Pascals), the seismic moment can be obtained with the following code:\n"
   ]
  },
  {
   "cell_type": "markdown",
   "id": "2f5951e7-4eaa-4cd5-9a05-15fb12e765f1",
   "metadata": {
    "editable": false,
    "tags": []
   },
   "source": [
    "> Click on the cell below and press \"Shift+Enter\" to do the calculation.\n",
    "   You may change the numbers and then press \"Shift+Enter\" again\n",
    "   to calculate the seismic moment and moment magnitude\n",
    "   for another set of values.\n"
   ]
  },
  {
   "cell_type": "code",
   "execution_count": null,
   "id": "864f4ec4-3eb5-4b3a-b4b3-ab0fae284a4f",
   "metadata": {},
   "outputs": [],
   "source": [
    "\n",
    "# the length of the fault rupture in meters\n",
    "length = 25000\n",
    "\n",
    "# the width of the fault rupture in meters\n",
    "width = 25000\n",
    "\n",
    "# the average amount of slip on the fault, in meters\n",
    "slip = 1\n",
    "\n",
    "### DO NOT CHANGE THE CODE BELOW ###\n",
    "Mo = Mo_calc(length, width, slip)\n",
    "Mw = Mw_calc(Mo)"
   ]
  },
  {
   "cell_type": "markdown",
   "id": "6156770c-129d-4f42-bd00-55b3fd6c045e",
   "metadata": {
    "editable": false,
    "tags": []
   },
   "source": [
    "## Test yourself\n",
    "\n",
    "Calculate the moment magnitude of the 1990 Luzon earthquake, assuming that the [rupture](https://www.phivolcs.dost.gov.ph/index.php/earthquake/destructive-earthquake-of-the-philippines/2-uncategorised/212-1990-july-16-ms7-9-luzon-earthquake) of the fault involved slip from the surface down to its [focal depth](https://earthquake.usgs.gov/earthquakes/eventpage/usp0004bxs/technical).\n",
    "\n",
    "Does your own calculation match what is reported by previous works?  \n",
    "\n"
   ]
  },
  {
   "cell_type": "markdown",
   "id": "ddb6461d-9b0d-4501-948a-be7d67306910",
   "metadata": {
    "editable": false,
    "tags": []
   },
   "source": [
    "---\n",
    "## The other way around\n",
    "\n",
    "There may be cases when you know the magnitude of an earthquake and you would like to estimate the seismic moment. The following code reverse engineers the equations above.  The function below also provides a way to output the seismic moment in dyne-cm, which is common, non-SI unit of measurement for seismic moment."
   ]
  },
  {
   "cell_type": "markdown",
   "id": "92b19b77-1573-41ee-90c3-1adc4312c093",
   "metadata": {
    "editable": false,
    "tags": []
   },
   "source": [
    "> Click on the cell below and press \"Shift+Enter\" to do the calculation.\n",
    "   You may change the numbers below and then press \"Shift+Enter\"\n",
    "   to calculate the seismic moment for another value of moment magnitude"
   ]
  },
  {
   "cell_type": "code",
   "execution_count": null,
   "id": "8f933cab-ee26-4932-b19f-b45ec59be5e1",
   "metadata": {},
   "outputs": [],
   "source": [
    "# input the moment magnitude below\n",
    "Mw = 6.0\n",
    "\n",
    "Mo_inv = Mw2Mo(Mw, units=\"SI\")"
   ]
  },
  {
   "cell_type": "markdown",
   "id": "f0bbdce6-7023-46fa-8878-90cae49ff692",
   "metadata": {
    "editable": false,
    "tags": []
   },
   "source": [
    "\n",
    "\n",
    "\n",
    "### Background code\n",
    "\n",
    "If you are interested in the code used for the calculations above, the [functions](https://www.w3schools.com/python/python_functions.asp) used are defined below:"
   ]
  },
  {
   "cell_type": "code",
   "execution_count": 1,
   "id": "76819526-8bac-4207-9a22-42719dfb1905",
   "metadata": {
    "editable": false,
    "tags": []
   },
   "outputs": [],
   "source": [
    "import math\n",
    "\n",
    "def Mo_calc(length, width, slip, mu=32e9):\n",
    "    '''\n",
    "    Seismic moment calculator, with default shear modulus (mu) = 32 GPa\n",
    "    \n",
    "    Input:\n",
    "        length: rupture length, in meters\n",
    "        width: rupture width, in meters\n",
    "        slip: average slip, in meters\n",
    "        mu (default: 32 GPa)\n",
    "        \n",
    "    return value\n",
    "        Seismic moment, in Nm\n",
    "    '''\n",
    "    A = length * width\n",
    "    A_km = A / 1000**2\n",
    "    Mo = mu*length*width*slip\n",
    "    \n",
    "    print(f\"The seismic moment of a rupture area of {A_km} sq. km and slip of {slip} m is {Mo:0.3e} Pa\")\n",
    "    \n",
    "    return Mo\n",
    "\n",
    "def Mw_calc(Mo):\n",
    "    '''\n",
    "    Moment magnitude calculator\n",
    "    \n",
    "    Input:\n",
    "        Mo: must be in Newton-meter\n",
    "        \n",
    "    return value\n",
    "        Mw: Moment magnitude\n",
    "    '''\n",
    "    Mw = ((2/3)*(math.log10(Mo))) - 6.05\n",
    "    \n",
    "    print(f\"The Moment Magnitude is {Mw:0.2f}\")\n",
    "    \n",
    "    return Mw"
   ]
  },
  {
   "cell_type": "code",
   "execution_count": 2,
   "id": "691a1824-fd7e-455a-83cd-97df73fc4242",
   "metadata": {
    "editable": false,
    "tags": []
   },
   "outputs": [],
   "source": [
    "def Mw2Mo(Mw, units=\"SI\"):\n",
    "    '''\n",
    "    Calculate the seismic moment of a given moment magnitude\n",
    "    \n",
    "    Input:\n",
    "        Mw: Moment magnitude\n",
    "        units: default: SI (for newton-meters), anything else will result to dyne-cm output\n",
    "        \n",
    "    return value\n",
    "        Mo: in the chosen units \n",
    "    '''\n",
    "    if units == \"SI\":\n",
    "        Mo = 10**((Mw + 6.05)*(1.5)) \n",
    "        unit = \"Nm\"\n",
    "    else:\n",
    "        Mo = 10**((Mw + 10.7)*(1.5))\n",
    "        unit = \"dyne-cm\"\n",
    "        \n",
    "    print(f\"A Mw {Mw:0.2f} earthquake has a seismic moment of {Mo:0.3e} {unit}\")\n",
    "    \n",
    "    return Mo"
   ]
  }
 ],
 "metadata": {
  "kernelspec": {
   "display_name": "Python 3 (ipykernel)",
   "language": "python",
   "name": "python3"
  },
  "language_info": {
   "codemirror_mode": {
    "name": "ipython",
    "version": 3
   },
   "file_extension": ".py",
   "mimetype": "text/x-python",
   "name": "python",
   "nbconvert_exporter": "python",
   "pygments_lexer": "ipython3",
   "version": "3.7.11"
  }
 },
 "nbformat": 4,
 "nbformat_minor": 5
}
